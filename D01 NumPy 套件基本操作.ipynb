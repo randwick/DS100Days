{
  "nbformat": 4,
  "nbformat_minor": 0,
  "metadata": {
    "colab": {
      "name": "作業題目.ipynb",
      "provenance": [],
      "collapsed_sections": [],
      "include_colab_link": true
    },
    "kernelspec": {
      "name": "python3",
      "display_name": "Python 3"
    }
  },
  "cells": [
    {
      "cell_type": "markdown",
      "metadata": {
        "id": "view-in-github",
        "colab_type": "text"
      },
      "source": [
        "<a href=\"https://colab.research.google.com/github/randwick/DS100Days/blob/main/D01%20NumPy%20%E5%A5%97%E4%BB%B6%E5%9F%BA%E6%9C%AC%E6%93%8D%E4%BD%9C.ipynb\" target=\"_parent\"><img src=\"https://colab.research.google.com/assets/colab-badge.svg\" alt=\"Open In Colab\"/></a>"
      ]
    },
    {
      "cell_type": "markdown",
      "metadata": {
        "id": "5aWZnhxBD2p2"
      },
      "source": [
        "作業目標:<br>\r\n",
        "在array中，可以靈活應用索引幫助資料擷取<br>\r\n",
        "作業重點:<br>\r\n",
        "陣列的索引、切片、以及屬性，皆需要注意使用方式<br>\r\n",
        "陣列之中索引式由0開始請同學注意"
      ]
    },
    {
      "cell_type": "markdown",
      "metadata": {
        "id": "Ec7jpEEnD4rj"
      },
      "source": [
        "題目:<br>\r\n",
        "1.生成一個等差數列，首數為0，尾數為20，公差為1的數列。<br>\r\n",
        "2.呈上題，將以上數列取出偶數。<br>\r\n",
        "3.呈1題，將數列取出3的倍數。<br>"
      ]
    },
    {
      "cell_type": "code",
      "metadata": {
        "id": "NfVTcwauD3rg"
      },
      "source": [
        "import numpy as np"
      ],
      "execution_count": 2,
      "outputs": []
    },
    {
      "cell_type": "code",
      "metadata": {
        "id": "QrOaxfmeEpvo",
        "colab": {
          "base_uri": "https://localhost:8080/"
        },
        "outputId": "092586c9-3908-427e-85fb-f998a32b3673"
      },
      "source": [
        "#1.生成一個等差數列，首數為0，尾數為20，公差為1的數列。\r\n",
        "a = np.arange(21)"
      ],
      "execution_count": 9,
      "outputs": [
        {
          "output_type": "execute_result",
          "data": {
            "text/plain": [
              "array([ 0,  1,  2,  3,  4,  5,  6,  7,  8,  9, 10, 11, 12, 13, 14, 15, 16,\n",
              "       17, 18, 19, 20])"
            ]
          },
          "metadata": {
            "tags": []
          },
          "execution_count": 9
        }
      ]
    },
    {
      "cell_type": "code",
      "metadata": {
        "id": "5FFeFSvoEtRP",
        "colab": {
          "base_uri": "https://localhost:8080/"
        },
        "outputId": "2096fe0c-a6c9-49b7-a18d-b01e2f39568d"
      },
      "source": [
        "#2.呈上題，將以上數列取出偶數。\r\n",
        "\r\n",
        "a[::2]"
      ],
      "execution_count": 11,
      "outputs": [
        {
          "output_type": "execute_result",
          "data": {
            "text/plain": [
              "array([ 0,  2,  4,  6,  8, 10, 12, 14, 16, 18, 20])"
            ]
          },
          "metadata": {
            "tags": []
          },
          "execution_count": 11
        }
      ]
    },
    {
      "cell_type": "code",
      "metadata": {
        "id": "7-HcNGFsFD-_",
        "colab": {
          "base_uri": "https://localhost:8080/"
        },
        "outputId": "8019a2ff-3884-45fe-c005-388ec79d8a41"
      },
      "source": [
        "#3.呈1題，將數列取出3的倍數。\r\n",
        "a[::3]"
      ],
      "execution_count": 12,
      "outputs": [
        {
          "output_type": "execute_result",
          "data": {
            "text/plain": [
              "array([ 0,  3,  6,  9, 12, 15, 18])"
            ]
          },
          "metadata": {
            "tags": []
          },
          "execution_count": 12
        }
      ]
    },
    {
      "cell_type": "code",
      "metadata": {
        "id": "6_6Emob-FHn3"
      },
      "source": [
        ""
      ],
      "execution_count": null,
      "outputs": []
    }
  ]
}